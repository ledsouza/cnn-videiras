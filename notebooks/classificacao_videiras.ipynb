version https://git-lfs.github.com/spec/v1
oid sha256:6a23e3ceec9a8d19d18e795c9510c2b77f6fb52caef091138601686a260a2670
size 216943
