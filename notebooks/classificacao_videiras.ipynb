version https://git-lfs.github.com/spec/v1
oid sha256:f95f76328359060da67a859f30edcef88b6f64bd5b7a64bc41cb6b9817973807
size 1221233
