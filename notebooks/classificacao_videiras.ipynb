version https://git-lfs.github.com/spec/v1
oid sha256:94cfaafe203d3bf85c42bda70c8199607eafd1b7785bf57d1c864feb184cf7df
size 288454
