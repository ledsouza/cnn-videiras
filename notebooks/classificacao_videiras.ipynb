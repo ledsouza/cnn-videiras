version https://git-lfs.github.com/spec/v1
oid sha256:36856bfaa06a1acf2b793d5f12e9d092e8a21b87988edd25a775885103a2d4a2
size 258300
