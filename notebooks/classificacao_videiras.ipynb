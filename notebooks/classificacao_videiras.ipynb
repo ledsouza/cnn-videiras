version https://git-lfs.github.com/spec/v1
oid sha256:3df0629faf98c0d2a22dac21da4a982c6ec19dbb9a7eb2412a830a18ccfa3cf3
size 1246409
